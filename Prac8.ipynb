{
 "cells": [
  {
   "cell_type": "code",
   "execution_count": 3,
   "metadata": {},
   "outputs": [
    {
     "name": "stdout",
     "output_type": "stream",
     "text": [
      "0.96\n"
     ]
    },
    {
     "data": {
      "image/png": "[encoded data removed]",
      "text/plain": [
       "<matplotlib.figure.Figure at 0xb737400>"
      ]
     },
     "metadata": {},
     "output_type": "display_data"
    }
   ],
   "source": [
    "%matplotlib inline\n",
    "import pandas as pd\n",
    "import matplotlib.pyplot as plt\n",
    "import numpy as np\n",
    "from scipy.stats import norm\n",
    "from math import sqrt\n",
    "\n",
    "\n",
    "#norm.interval takes three parameters 1->Value of (1-alpha)  2->mean of distribution from which sample came from  3->std of that distribution.  \n",
    "#plt.errorbar takes a few arguments... \n",
    "\n",
    "\n",
    "ds = pd.read_csv(\"height-weight.csv\");\n",
    "pm = np.mean(ds.height);\n",
    "\n",
    "def sampling(sampleSize, NoOfSamples):\n",
    "    sampleMeans=[]\n",
    "    intervals=[]\n",
    "    count = 0\n",
    "    \n",
    "    for i in range(0, NoOfSamples):\n",
    "        sample = ds.height.sample(sampleSize)\n",
    "        sampleMeans.append(np.mean(sample))\n",
    "        ci = norm.interval(0.95, np.mean(sample), np.std(sample, ddof = 1)/sqrt(sampleSize))\n",
    "        intervals.append(ci)\n",
    "        if(pm >= ci[0] and pm <= ci[1]):\n",
    "            count = count +1\n",
    "        \n",
    "    print(count/NoOfSamples)\n",
    "    #print(intervals)\n",
    "    plt.figure(figsize = (15,5))\n",
    "    plt.hlines(xmin=0, xmax=100, y=pm, color='red')\n",
    "    plt.errorbar(np.arange(0.5,100,1), sampleMeans, fmt='o', yerr = [(upper-lower)/2 for lower, upper in intervals])\n",
    "    \n",
    "sampling(100,100)"
   ]
  },
  {
   "cell_type": "code",
   "execution_count": null,
   "metadata": {
    "collapsed": true
   },
   "outputs": [],
   "source": [
    "/*\n",
    "Note : \n",
    "    norm.interval is used when sample size is large no matter what the population distribution is like.\n",
    "    t.interval is used when sample size is small and the sample contains no outliers andits known that sample comes\n",
    "    from a appox norm population.\n",
    "    \n",
    "    norm.interval(% CI, sample mean, sample SD/ sqrt(sample size))\n",
    "    t.interval(% CI, Degrees of freedom, sample mean, sample SD/sqrt(Sample size))\n"
   ]
  }
 ],
 "metadata": {
  "kernelspec": {
   "display_name": "Python 3",
   "language": "python",
   "name": "python3"
  },
  "language_info": {
   "codemirror_mode": {
    "name": "ipython",
    "version": 3
   },
   "file_extension": ".py",
   "mimetype": "text/x-python",
   "name": "python",
   "nbconvert_exporter": "python",
   "pygments_lexer": "ipython3",
   "version": "3.6.1"
  }
 },
 "nbformat": 4,
 "nbformat_minor": 2
}
