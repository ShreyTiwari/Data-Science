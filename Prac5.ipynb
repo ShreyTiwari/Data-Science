{
 "cells": [
  {
   "cell_type": "code",
   "execution_count": 1,
   "metadata": {},
   "outputs": [
    {
     "name": "stdout",
     "output_type": "stream",
     "text": [
      "Population Mean =  67.99311359679979\n",
      "Population SD =  1.9016407372498367\n",
      "-------------------------------------------------------------\n",
      "\n",
      "Mean OF means is :  67.9928913926\n",
      "Standard deviation of means is :  0.062074004946\n"
     ]
    },
    {
     "data": {
      "image/png": "[encoded data removed]",
      "text/plain": [
       "<matplotlib.figure.Figure at 0x9863b00>"
      ]
     },
     "metadata": {},
     "output_type": "display_data"
    },
    {
     "name": "stdout",
     "output_type": "stream",
     "text": [
      "\n",
      "Expected SD =  0.19016407372498367\n"
     ]
    }
   ],
   "source": [
    "%matplotlib inline\n",
    "import pandas as pd\n",
    "import numpy as np\n",
    "import matplotlib.pyplot as plt\n",
    "\n",
    "ds = pd.read_csv(\"height-weight.csv\")\n",
    "\n",
    "print(\"Population Mean = \", np.mean(ds.height))\n",
    "print(\"Population SD = \", np.std(ds.height))\n",
    "\n",
    "def sampling(sampleSize, noOfSample):\n",
    "    print('-------------------------------------------------------------')\n",
    "    means=[]\n",
    "    for i in range(noOfSample):\n",
    "        x = ds.height.sample(sampleSize)\n",
    "        means.append(np.mean(x))\n",
    "    print('\\nMean OF means is : ', np.mean(means))\n",
    "    print('Standard deviation of means is : ', np.std(means, ddof=1))\n",
    "    plt.hist(means, bins=10)\n",
    "    plt.show()\n",
    "    \n",
    "sampling(1000, 100)\n",
    "\n",
    "print('\\nExpected SD = ', np.std(ds.height)/10)"
   ]
  },
  {
   "cell_type": "code",
   "execution_count": null,
   "metadata": {
    "collapsed": true
   },
   "outputs": [],
   "source": []
  }
 ],
 "metadata": {
  "kernelspec": {
   "display_name": "Python 3",
   "language": "python",
   "name": "python3"
  },
  "language_info": {
   "codemirror_mode": {
    "name": "ipython",
    "version": 3
   },
   "file_extension": ".py",
   "mimetype": "text/x-python",
   "name": "python",
   "nbconvert_exporter": "python",
   "pygments_lexer": "ipython3",
   "version": "3.6.1"
  }
 },
 "nbformat": 4,
 "nbformat_minor": 2
}
