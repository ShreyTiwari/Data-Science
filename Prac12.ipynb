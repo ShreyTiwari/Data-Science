{
 "cells": [
  {
   "cell_type": "code",
   "execution_count": 14,
   "metadata": {},
   "outputs": [
    {
     "name": "stdout",
     "output_type": "stream",
     "text": [
      "[  2.   8.   8.  15.  14.  18.  10.  12.   8.   5.] \n",
      "\n",
      "[2.3306346786085999, 5.0250480112914397, 8.999247409753119, 13.387078430904687, 16.542019240926731, 16.979285816423978, 14.477018489897542, 10.253303536036517, 6.0320541812110111, 2.9476158228298632] \n",
      "\n",
      "5.56381358516 \n",
      "\n",
      "0.782654345572 \n",
      "\n",
      "We failed to reject H0\n"
     ]
    },
    {
     "data": {
      "image/png": "[encoded data removed]",
      "text/plain": [
       "<matplotlib.figure.Figure at 0x638fb00>"
      ]
     },
     "metadata": {},
     "output_type": "display_data"
    }
   ],
   "source": [
    "%matplotlib inline\n",
    "import numpy as np\n",
    "import matplotlib.pyplot as plt\n",
    "import pandas as pd\n",
    "from scipy.stats import norm, chisquare\n",
    "\n",
    "ds = pd.read_csv(\"height-weight.csv\")\n",
    "\n",
    "sample = ds.height.sample(100)\n",
    "\n",
    "observed_count, bins, patches = plt.hist(sample)\n",
    "\n",
    "#area = [(norm.cdf(bins[i], np.mean(sample), np.std(sample, ddof = 1))-norm.cdf(bins[i-1], np.mean(sample), np.std(sample, ddof = 1))) for i in range(1, len(bins))]\n",
    "\n",
    "z_scores = [(i-np.mean(sample))/np.std(sample, ddof = 1) for i in bins] #__\n",
    "area = []                                                               #  !-> All this can be done in one step as shown above.\n",
    "for i in range(1, len(bins)):                                           #  !\n",
    "    area.append(norm.cdf(z_scores[i]) - norm.cdf(z_scores[i-1]))        #__!\n",
    "    \n",
    "\n",
    "expected_count = [i*100 for i in area]\n",
    "\n",
    "chi2, p_value = chisquare(observed_count, expected_count)\n",
    "\n",
    "print(observed_count, '\\n')\n",
    "print(expected_count, '\\n')\n",
    "print(chi2, '\\n')\n",
    "print(p_value, '\\n')\n",
    "\n",
    "if(p_value < 0.05):\n",
    "    print(\"We reject H0\")\n",
    "    \n",
    "else:\n",
    "    print(\"We failed to reject H0\")"
   ]
  },
  {
   "cell_type": "code",
   "execution_count": 15,
   "metadata": {},
   "outputs": [
    {
     "name": "stdout",
     "output_type": "stream",
     "text": [
      "6.31858833241\n",
      "5.56381358516\n",
      "0.707657552043\n",
      "0.782654345572\n"
     ]
    }
   ],
   "source": [
    "chi2a, p_valuea = chisquare(observed_count, expected_count)\n",
    "chi2b, p_valueb = chisquare(expected_count, observed_count)\n",
    "\n",
    "print(chi2a)\n",
    "print(chi2b)\n",
    "print(p_valuea)\n",
    "print(p_valueb)"
   ]
  },
  {
   "cell_type": "code",
   "execution_count": null,
   "metadata": {
    "collapsed": true
   },
   "outputs": [],
   "source": []
  }
 ],
 "metadata": {
  "kernelspec": {
   "display_name": "Python 3",
   "language": "python",
   "name": "python3"
  },
  "language_info": {
   "codemirror_mode": {
    "name": "ipython",
    "version": 3
   },
   "file_extension": ".py",
   "mimetype": "text/x-python",
   "name": "python",
   "nbconvert_exporter": "python",
   "pygments_lexer": "ipython3",
   "version": "3.6.1"
  }
 },
 "nbformat": 4,
 "nbformat_minor": 2
}
